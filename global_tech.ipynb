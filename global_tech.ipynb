{
 "cells": [
  {
   "cell_type": "code",
   "execution_count": 191,
   "id": "0aa0c1e7-67df-4c10-8a59-609969f611ea",
   "metadata": {},
   "outputs": [],
   "source": [
    "# Importing libraries\n",
    "import numpy as np\n",
    "import pandas as pd\n",
    "import matplotlib.pyplot as plt \n",
    "import seaborn as sns"
   ]
  },
  {
   "cell_type": "code",
   "execution_count": 192,
   "id": "ec61d3d7-a657-46fc-8f8d-2b95e29edf9a",
   "metadata": {},
   "outputs": [],
   "source": [
    "# Loading population data into pandas dataframe\n",
    "population_data = pd.read_csv(r\"C:\\Users\\sekky\\Desktop\\GENERATION UK\\Python Practical Task\\population.csv\")"
   ]
  },
  {
   "cell_type": "code",
   "execution_count": 193,
   "id": "809ac33d-ae2c-465a-95dc-b53cc356063f",
   "metadata": {},
   "outputs": [
    {
     "data": {
      "text/html": [
       "<div>\n",
       "<style scoped>\n",
       "    .dataframe tbody tr th:only-of-type {\n",
       "        vertical-align: middle;\n",
       "    }\n",
       "\n",
       "    .dataframe tbody tr th {\n",
       "        vertical-align: top;\n",
       "    }\n",
       "\n",
       "    .dataframe thead th {\n",
       "        text-align: right;\n",
       "    }\n",
       "</style>\n",
       "<table border=\"1\" class=\"dataframe\">\n",
       "  <thead>\n",
       "    <tr style=\"text-align: right;\">\n",
       "      <th></th>\n",
       "      <th>id</th>\n",
       "      <th>population</th>\n",
       "      <th>year</th>\n",
       "      <th>country_id</th>\n",
       "      <th>country name</th>\n",
       "      <th>continent</th>\n",
       "    </tr>\n",
       "  </thead>\n",
       "  <tbody>\n",
       "    <tr>\n",
       "      <th>0</th>\n",
       "      <td>1</td>\n",
       "      <td>0.0</td>\n",
       "      <td>2000</td>\n",
       "      <td>1</td>\n",
       "      <td>Bermuda</td>\n",
       "      <td>North America</td>\n",
       "    </tr>\n",
       "    <tr>\n",
       "      <th>1</th>\n",
       "      <td>2</td>\n",
       "      <td>0.0</td>\n",
       "      <td>2001</td>\n",
       "      <td>1</td>\n",
       "      <td>Bermuda</td>\n",
       "      <td>North America</td>\n",
       "    </tr>\n",
       "    <tr>\n",
       "      <th>2</th>\n",
       "      <td>3</td>\n",
       "      <td>0.0</td>\n",
       "      <td>2002</td>\n",
       "      <td>1</td>\n",
       "      <td>Bermuda</td>\n",
       "      <td>North America</td>\n",
       "    </tr>\n",
       "    <tr>\n",
       "      <th>3</th>\n",
       "      <td>4</td>\n",
       "      <td>0.0</td>\n",
       "      <td>2003</td>\n",
       "      <td>1</td>\n",
       "      <td>Bermuda</td>\n",
       "      <td>North America</td>\n",
       "    </tr>\n",
       "    <tr>\n",
       "      <th>4</th>\n",
       "      <td>5</td>\n",
       "      <td>0.0</td>\n",
       "      <td>2004</td>\n",
       "      <td>1</td>\n",
       "      <td>Bermuda</td>\n",
       "      <td>North America</td>\n",
       "    </tr>\n",
       "    <tr>\n",
       "      <th>...</th>\n",
       "      <td>...</td>\n",
       "      <td>...</td>\n",
       "      <td>...</td>\n",
       "      <td>...</td>\n",
       "      <td>...</td>\n",
       "      <td>...</td>\n",
       "    </tr>\n",
       "    <tr>\n",
       "      <th>2338</th>\n",
       "      <td>2339</td>\n",
       "      <td>85.0</td>\n",
       "      <td>2006</td>\n",
       "      <td>214</td>\n",
       "      <td>Vietnam</td>\n",
       "      <td>Asia</td>\n",
       "    </tr>\n",
       "    <tr>\n",
       "      <th>2339</th>\n",
       "      <td>2340</td>\n",
       "      <td>86.0</td>\n",
       "      <td>2007</td>\n",
       "      <td>214</td>\n",
       "      <td>Vietnam</td>\n",
       "      <td>Asia</td>\n",
       "    </tr>\n",
       "    <tr>\n",
       "      <th>2340</th>\n",
       "      <td>2341</td>\n",
       "      <td>87.0</td>\n",
       "      <td>2008</td>\n",
       "      <td>214</td>\n",
       "      <td>Vietnam</td>\n",
       "      <td>Asia</td>\n",
       "    </tr>\n",
       "    <tr>\n",
       "      <th>2341</th>\n",
       "      <td>2342</td>\n",
       "      <td>88.0</td>\n",
       "      <td>2009</td>\n",
       "      <td>214</td>\n",
       "      <td>Vietnam</td>\n",
       "      <td>Asia</td>\n",
       "    </tr>\n",
       "    <tr>\n",
       "      <th>2342</th>\n",
       "      <td>2343</td>\n",
       "      <td>89.0</td>\n",
       "      <td>2010</td>\n",
       "      <td>214</td>\n",
       "      <td>Vietnam</td>\n",
       "      <td>Asia</td>\n",
       "    </tr>\n",
       "  </tbody>\n",
       "</table>\n",
       "<p>2343 rows × 6 columns</p>\n",
       "</div>"
      ],
      "text/plain": [
       "        id  population  year  country_id country name      continent\n",
       "0        1         0.0  2000           1      Bermuda  North America\n",
       "1        2         0.0  2001           1      Bermuda  North America\n",
       "2        3         0.0  2002           1      Bermuda  North America\n",
       "3        4         0.0  2003           1      Bermuda  North America\n",
       "4        5         0.0  2004           1      Bermuda  North America\n",
       "...    ...         ...   ...         ...          ...            ...\n",
       "2338  2339        85.0  2006         214      Vietnam           Asia\n",
       "2339  2340        86.0  2007         214      Vietnam           Asia\n",
       "2340  2341        87.0  2008         214      Vietnam           Asia\n",
       "2341  2342        88.0  2009         214      Vietnam           Asia\n",
       "2342  2343        89.0  2010         214      Vietnam           Asia\n",
       "\n",
       "[2343 rows x 6 columns]"
      ]
     },
     "execution_count": 193,
     "metadata": {},
     "output_type": "execute_result"
    }
   ],
   "source": [
    "population_data"
   ]
  },
  {
   "cell_type": "code",
   "execution_count": 194,
   "id": "f663f678-1d5c-4aec-8b0e-cfa3a7fc7c51",
   "metadata": {},
   "outputs": [
    {
     "data": {
      "text/html": [
       "<div>\n",
       "<style scoped>\n",
       "    .dataframe tbody tr th:only-of-type {\n",
       "        vertical-align: middle;\n",
       "    }\n",
       "\n",
       "    .dataframe tbody tr th {\n",
       "        vertical-align: top;\n",
       "    }\n",
       "\n",
       "    .dataframe thead th {\n",
       "        text-align: right;\n",
       "    }\n",
       "</style>\n",
       "<table border=\"1\" class=\"dataframe\">\n",
       "  <thead>\n",
       "    <tr style=\"text-align: right;\">\n",
       "      <th></th>\n",
       "      <th>id</th>\n",
       "      <th>population</th>\n",
       "      <th>year</th>\n",
       "      <th>country_id</th>\n",
       "      <th>country name</th>\n",
       "      <th>continent</th>\n",
       "    </tr>\n",
       "  </thead>\n",
       "  <tbody>\n",
       "    <tr>\n",
       "      <th>0</th>\n",
       "      <td>1</td>\n",
       "      <td>0.0</td>\n",
       "      <td>2000</td>\n",
       "      <td>1</td>\n",
       "      <td>Bermuda</td>\n",
       "      <td>North America</td>\n",
       "    </tr>\n",
       "    <tr>\n",
       "      <th>1</th>\n",
       "      <td>2</td>\n",
       "      <td>0.0</td>\n",
       "      <td>2001</td>\n",
       "      <td>1</td>\n",
       "      <td>Bermuda</td>\n",
       "      <td>North America</td>\n",
       "    </tr>\n",
       "    <tr>\n",
       "      <th>2</th>\n",
       "      <td>3</td>\n",
       "      <td>0.0</td>\n",
       "      <td>2002</td>\n",
       "      <td>1</td>\n",
       "      <td>Bermuda</td>\n",
       "      <td>North America</td>\n",
       "    </tr>\n",
       "    <tr>\n",
       "      <th>3</th>\n",
       "      <td>4</td>\n",
       "      <td>0.0</td>\n",
       "      <td>2003</td>\n",
       "      <td>1</td>\n",
       "      <td>Bermuda</td>\n",
       "      <td>North America</td>\n",
       "    </tr>\n",
       "    <tr>\n",
       "      <th>4</th>\n",
       "      <td>5</td>\n",
       "      <td>0.0</td>\n",
       "      <td>2004</td>\n",
       "      <td>1</td>\n",
       "      <td>Bermuda</td>\n",
       "      <td>North America</td>\n",
       "    </tr>\n",
       "  </tbody>\n",
       "</table>\n",
       "</div>"
      ],
      "text/plain": [
       "   id  population  year  country_id country name      continent\n",
       "0   1         0.0  2000           1      Bermuda  North America\n",
       "1   2         0.0  2001           1      Bermuda  North America\n",
       "2   3         0.0  2002           1      Bermuda  North America\n",
       "3   4         0.0  2003           1      Bermuda  North America\n",
       "4   5         0.0  2004           1      Bermuda  North America"
      ]
     },
     "execution_count": 194,
     "metadata": {},
     "output_type": "execute_result"
    }
   ],
   "source": [
    "# Viewing the first five rows of the data\n",
    "population_data.head()"
   ]
  },
  {
   "cell_type": "code",
   "execution_count": 195,
   "id": "defdcd7b-9220-46ae-8bf4-dd2b1b83323b",
   "metadata": {},
   "outputs": [
    {
     "data": {
      "text/html": [
       "<div>\n",
       "<style scoped>\n",
       "    .dataframe tbody tr th:only-of-type {\n",
       "        vertical-align: middle;\n",
       "    }\n",
       "\n",
       "    .dataframe tbody tr th {\n",
       "        vertical-align: top;\n",
       "    }\n",
       "\n",
       "    .dataframe thead th {\n",
       "        text-align: right;\n",
       "    }\n",
       "</style>\n",
       "<table border=\"1\" class=\"dataframe\">\n",
       "  <thead>\n",
       "    <tr style=\"text-align: right;\">\n",
       "      <th></th>\n",
       "      <th>id</th>\n",
       "      <th>population</th>\n",
       "      <th>year</th>\n",
       "      <th>country_id</th>\n",
       "      <th>country name</th>\n",
       "      <th>continent</th>\n",
       "    </tr>\n",
       "  </thead>\n",
       "  <tbody>\n",
       "    <tr>\n",
       "      <th>2338</th>\n",
       "      <td>2339</td>\n",
       "      <td>85.0</td>\n",
       "      <td>2006</td>\n",
       "      <td>214</td>\n",
       "      <td>Vietnam</td>\n",
       "      <td>Asia</td>\n",
       "    </tr>\n",
       "    <tr>\n",
       "      <th>2339</th>\n",
       "      <td>2340</td>\n",
       "      <td>86.0</td>\n",
       "      <td>2007</td>\n",
       "      <td>214</td>\n",
       "      <td>Vietnam</td>\n",
       "      <td>Asia</td>\n",
       "    </tr>\n",
       "    <tr>\n",
       "      <th>2340</th>\n",
       "      <td>2341</td>\n",
       "      <td>87.0</td>\n",
       "      <td>2008</td>\n",
       "      <td>214</td>\n",
       "      <td>Vietnam</td>\n",
       "      <td>Asia</td>\n",
       "    </tr>\n",
       "    <tr>\n",
       "      <th>2341</th>\n",
       "      <td>2342</td>\n",
       "      <td>88.0</td>\n",
       "      <td>2009</td>\n",
       "      <td>214</td>\n",
       "      <td>Vietnam</td>\n",
       "      <td>Asia</td>\n",
       "    </tr>\n",
       "    <tr>\n",
       "      <th>2342</th>\n",
       "      <td>2343</td>\n",
       "      <td>89.0</td>\n",
       "      <td>2010</td>\n",
       "      <td>214</td>\n",
       "      <td>Vietnam</td>\n",
       "      <td>Asia</td>\n",
       "    </tr>\n",
       "  </tbody>\n",
       "</table>\n",
       "</div>"
      ],
      "text/plain": [
       "        id  population  year  country_id country name continent\n",
       "2338  2339        85.0  2006         214      Vietnam      Asia\n",
       "2339  2340        86.0  2007         214      Vietnam      Asia\n",
       "2340  2341        87.0  2008         214      Vietnam      Asia\n",
       "2341  2342        88.0  2009         214      Vietnam      Asia\n",
       "2342  2343        89.0  2010         214      Vietnam      Asia"
      ]
     },
     "execution_count": 195,
     "metadata": {},
     "output_type": "execute_result"
    }
   ],
   "source": [
    "# Viewing the last 5 rows of the data\n",
    "population_data.tail()"
   ]
  },
  {
   "cell_type": "code",
   "execution_count": 196,
   "id": "9216fbe6-91ab-4510-94d7-a67b5c2d1f44",
   "metadata": {},
   "outputs": [
    {
     "name": "stdout",
     "output_type": "stream",
     "text": [
      "<class 'pandas.core.frame.DataFrame'>\n",
      "RangeIndex: 2343 entries, 0 to 2342\n",
      "Data columns (total 6 columns):\n",
      " #   Column        Non-Null Count  Dtype  \n",
      "---  ------        --------------  -----  \n",
      " 0   id            2343 non-null   int64  \n",
      " 1   population    2335 non-null   float64\n",
      " 2   year          2343 non-null   int64  \n",
      " 3   country_id    2343 non-null   int64  \n",
      " 4   country name  2343 non-null   object \n",
      " 5   continent     2343 non-null   object \n",
      "dtypes: float64(1), int64(3), object(2)\n",
      "memory usage: 110.0+ KB\n"
     ]
    }
   ],
   "source": [
    "# Getting information about poulation data\n",
    "# There are 2343 rows(entries) or observations and 6 columns\n",
    "population_data.info()"
   ]
  },
  {
   "cell_type": "code",
   "execution_count": 197,
   "id": "25df29a8-0ab1-44af-934d-ee201ad48c96",
   "metadata": {},
   "outputs": [
    {
     "data": {
      "text/html": [
       "<div>\n",
       "<style scoped>\n",
       "    .dataframe tbody tr th:only-of-type {\n",
       "        vertical-align: middle;\n",
       "    }\n",
       "\n",
       "    .dataframe tbody tr th {\n",
       "        vertical-align: top;\n",
       "    }\n",
       "\n",
       "    .dataframe thead th {\n",
       "        text-align: right;\n",
       "    }\n",
       "</style>\n",
       "<table border=\"1\" class=\"dataframe\">\n",
       "  <thead>\n",
       "    <tr style=\"text-align: right;\">\n",
       "      <th></th>\n",
       "      <th>id</th>\n",
       "      <th>population</th>\n",
       "      <th>year</th>\n",
       "      <th>country_id</th>\n",
       "    </tr>\n",
       "  </thead>\n",
       "  <tbody>\n",
       "    <tr>\n",
       "      <th>count</th>\n",
       "      <td>2343.000000</td>\n",
       "      <td>2335.000000</td>\n",
       "      <td>2343.000000</td>\n",
       "      <td>2343.000000</td>\n",
       "    </tr>\n",
       "    <tr>\n",
       "      <th>mean</th>\n",
       "      <td>1172.000000</td>\n",
       "      <td>30.041542</td>\n",
       "      <td>2005.000000</td>\n",
       "      <td>107.840376</td>\n",
       "    </tr>\n",
       "    <tr>\n",
       "      <th>std</th>\n",
       "      <td>676.510163</td>\n",
       "      <td>120.340090</td>\n",
       "      <td>3.162953</td>\n",
       "      <td>61.733298</td>\n",
       "    </tr>\n",
       "    <tr>\n",
       "      <th>min</th>\n",
       "      <td>1.000000</td>\n",
       "      <td>0.000000</td>\n",
       "      <td>2000.000000</td>\n",
       "      <td>1.000000</td>\n",
       "    </tr>\n",
       "    <tr>\n",
       "      <th>25%</th>\n",
       "      <td>586.500000</td>\n",
       "      <td>0.000000</td>\n",
       "      <td>2002.000000</td>\n",
       "      <td>55.000000</td>\n",
       "    </tr>\n",
       "    <tr>\n",
       "      <th>50%</th>\n",
       "      <td>1172.000000</td>\n",
       "      <td>5.000000</td>\n",
       "      <td>2005.000000</td>\n",
       "      <td>108.000000</td>\n",
       "    </tr>\n",
       "    <tr>\n",
       "      <th>75%</th>\n",
       "      <td>1757.500000</td>\n",
       "      <td>20.000000</td>\n",
       "      <td>2008.000000</td>\n",
       "      <td>161.000000</td>\n",
       "    </tr>\n",
       "    <tr>\n",
       "      <th>max</th>\n",
       "      <td>2343.000000</td>\n",
       "      <td>1330.000000</td>\n",
       "      <td>2010.000000</td>\n",
       "      <td>214.000000</td>\n",
       "    </tr>\n",
       "  </tbody>\n",
       "</table>\n",
       "</div>"
      ],
      "text/plain": [
       "                id   population         year   country_id\n",
       "count  2343.000000  2335.000000  2343.000000  2343.000000\n",
       "mean   1172.000000    30.041542  2005.000000   107.840376\n",
       "std     676.510163   120.340090     3.162953    61.733298\n",
       "min       1.000000     0.000000  2000.000000     1.000000\n",
       "25%     586.500000     0.000000  2002.000000    55.000000\n",
       "50%    1172.000000     5.000000  2005.000000   108.000000\n",
       "75%    1757.500000    20.000000  2008.000000   161.000000\n",
       "max    2343.000000  1330.000000  2010.000000   214.000000"
      ]
     },
     "execution_count": 197,
     "metadata": {},
     "output_type": "execute_result"
    }
   ],
   "source": [
    "# ummary of descriptive statistic  for population data\n",
    "population_data.describe()"
   ]
  },
  {
   "cell_type": "code",
   "execution_count": 198,
   "id": "5129f33f-e043-4bfb-affe-0e9af8e51a5d",
   "metadata": {},
   "outputs": [
    {
     "data": {
      "text/html": [
       "<div>\n",
       "<style scoped>\n",
       "    .dataframe tbody tr th:only-of-type {\n",
       "        vertical-align: middle;\n",
       "    }\n",
       "\n",
       "    .dataframe tbody tr th {\n",
       "        vertical-align: top;\n",
       "    }\n",
       "\n",
       "    .dataframe thead th {\n",
       "        text-align: right;\n",
       "    }\n",
       "</style>\n",
       "<table border=\"1\" class=\"dataframe\">\n",
       "  <thead>\n",
       "    <tr style=\"text-align: right;\">\n",
       "      <th></th>\n",
       "      <th>count</th>\n",
       "      <th>mean</th>\n",
       "      <th>std</th>\n",
       "      <th>min</th>\n",
       "      <th>25%</th>\n",
       "      <th>50%</th>\n",
       "      <th>75%</th>\n",
       "      <th>max</th>\n",
       "    </tr>\n",
       "  </thead>\n",
       "  <tbody>\n",
       "    <tr>\n",
       "      <th>id</th>\n",
       "      <td>2343.0</td>\n",
       "      <td>1172.000000</td>\n",
       "      <td>676.510163</td>\n",
       "      <td>1.0</td>\n",
       "      <td>586.5</td>\n",
       "      <td>1172.0</td>\n",
       "      <td>1757.5</td>\n",
       "      <td>2343.0</td>\n",
       "    </tr>\n",
       "    <tr>\n",
       "      <th>population</th>\n",
       "      <td>2335.0</td>\n",
       "      <td>30.041542</td>\n",
       "      <td>120.340090</td>\n",
       "      <td>0.0</td>\n",
       "      <td>0.0</td>\n",
       "      <td>5.0</td>\n",
       "      <td>20.0</td>\n",
       "      <td>1330.0</td>\n",
       "    </tr>\n",
       "    <tr>\n",
       "      <th>year</th>\n",
       "      <td>2343.0</td>\n",
       "      <td>2005.000000</td>\n",
       "      <td>3.162953</td>\n",
       "      <td>2000.0</td>\n",
       "      <td>2002.0</td>\n",
       "      <td>2005.0</td>\n",
       "      <td>2008.0</td>\n",
       "      <td>2010.0</td>\n",
       "    </tr>\n",
       "    <tr>\n",
       "      <th>country_id</th>\n",
       "      <td>2343.0</td>\n",
       "      <td>107.840376</td>\n",
       "      <td>61.733298</td>\n",
       "      <td>1.0</td>\n",
       "      <td>55.0</td>\n",
       "      <td>108.0</td>\n",
       "      <td>161.0</td>\n",
       "      <td>214.0</td>\n",
       "    </tr>\n",
       "  </tbody>\n",
       "</table>\n",
       "</div>"
      ],
      "text/plain": [
       "             count         mean         std     min     25%     50%     75%  \\\n",
       "id          2343.0  1172.000000  676.510163     1.0   586.5  1172.0  1757.5   \n",
       "population  2335.0    30.041542  120.340090     0.0     0.0     5.0    20.0   \n",
       "year        2343.0  2005.000000    3.162953  2000.0  2002.0  2005.0  2008.0   \n",
       "country_id  2343.0   107.840376   61.733298     1.0    55.0   108.0   161.0   \n",
       "\n",
       "               max  \n",
       "id          2343.0  \n",
       "population  1330.0  \n",
       "year        2010.0  \n",
       "country_id   214.0  "
      ]
     },
     "execution_count": 198,
     "metadata": {},
     "output_type": "execute_result"
    }
   ],
   "source": [
    "# Transcribing the descriptive statistics \n",
    "population_data.describe().T"
   ]
  },
  {
   "cell_type": "code",
   "execution_count": 199,
   "id": "04ba04d7-4735-4882-9529-db55411b3182",
   "metadata": {},
   "outputs": [
    {
     "data": {
      "text/plain": [
       "(2343, 6)"
      ]
     },
     "execution_count": 199,
     "metadata": {},
     "output_type": "execute_result"
    }
   ],
   "source": [
    "# Viewing the shape of the data gives us the number of rows and columns present in population data.\n",
    "population_data.shape"
   ]
  },
  {
   "cell_type": "code",
   "execution_count": 200,
   "id": "c759c0c8-b3f5-4c7a-b61b-66735adf5f71",
   "metadata": {},
   "outputs": [
    {
     "data": {
      "text/plain": [
       "id              0\n",
       "population      8\n",
       "year            0\n",
       "country_id      0\n",
       "country name    0\n",
       "continent       0\n",
       "dtype: int64"
      ]
     },
     "execution_count": 200,
     "metadata": {},
     "output_type": "execute_result"
    }
   ],
   "source": [
    "# Check for missing values in population data\n",
    "# The result indicates that there are 8 missing values in population column\n",
    "population_data.isnull().sum()"
   ]
  },
  {
   "cell_type": "code",
   "execution_count": 201,
   "id": "ffbe6d87-ad50-468e-914f-14ed621519b2",
   "metadata": {},
   "outputs": [
    {
     "data": {
      "text/html": [
       "<div>\n",
       "<style scoped>\n",
       "    .dataframe tbody tr th:only-of-type {\n",
       "        vertical-align: middle;\n",
       "    }\n",
       "\n",
       "    .dataframe tbody tr th {\n",
       "        vertical-align: top;\n",
       "    }\n",
       "\n",
       "    .dataframe thead th {\n",
       "        text-align: right;\n",
       "    }\n",
       "</style>\n",
       "<table border=\"1\" class=\"dataframe\">\n",
       "  <thead>\n",
       "    <tr style=\"text-align: right;\">\n",
       "      <th></th>\n",
       "      <th>id</th>\n",
       "      <th>population</th>\n",
       "      <th>year</th>\n",
       "      <th>country_id</th>\n",
       "      <th>country name</th>\n",
       "      <th>continent</th>\n",
       "    </tr>\n",
       "  </thead>\n",
       "  <tbody>\n",
       "    <tr>\n",
       "      <th>666</th>\n",
       "      <td>667</td>\n",
       "      <td>NaN</td>\n",
       "      <td>2006</td>\n",
       "      <td>62</td>\n",
       "      <td>Former Serbia and Montenegro</td>\n",
       "      <td>Europe</td>\n",
       "    </tr>\n",
       "    <tr>\n",
       "      <th>667</th>\n",
       "      <td>668</td>\n",
       "      <td>NaN</td>\n",
       "      <td>2007</td>\n",
       "      <td>62</td>\n",
       "      <td>Former Serbia and Montenegro</td>\n",
       "      <td>Europe</td>\n",
       "    </tr>\n",
       "    <tr>\n",
       "      <th>668</th>\n",
       "      <td>669</td>\n",
       "      <td>NaN</td>\n",
       "      <td>2008</td>\n",
       "      <td>62</td>\n",
       "      <td>Former Serbia and Montenegro</td>\n",
       "      <td>Europe</td>\n",
       "    </tr>\n",
       "    <tr>\n",
       "      <th>669</th>\n",
       "      <td>670</td>\n",
       "      <td>NaN</td>\n",
       "      <td>2009</td>\n",
       "      <td>62</td>\n",
       "      <td>Former Serbia and Montenegro</td>\n",
       "      <td>Europe</td>\n",
       "    </tr>\n",
       "    <tr>\n",
       "      <th>670</th>\n",
       "      <td>671</td>\n",
       "      <td>NaN</td>\n",
       "      <td>2010</td>\n",
       "      <td>62</td>\n",
       "      <td>Former Serbia and Montenegro</td>\n",
       "      <td>Europe</td>\n",
       "    </tr>\n",
       "    <tr>\n",
       "      <th>2288</th>\n",
       "      <td>2289</td>\n",
       "      <td>NaN</td>\n",
       "      <td>2000</td>\n",
       "      <td>210</td>\n",
       "      <td>Timor-Leste (East Timor)</td>\n",
       "      <td>Asia</td>\n",
       "    </tr>\n",
       "    <tr>\n",
       "      <th>2289</th>\n",
       "      <td>2290</td>\n",
       "      <td>NaN</td>\n",
       "      <td>2001</td>\n",
       "      <td>210</td>\n",
       "      <td>Timor-Leste (East Timor)</td>\n",
       "      <td>Asia</td>\n",
       "    </tr>\n",
       "    <tr>\n",
       "      <th>2290</th>\n",
       "      <td>2291</td>\n",
       "      <td>NaN</td>\n",
       "      <td>2002</td>\n",
       "      <td>210</td>\n",
       "      <td>Timor-Leste (East Timor)</td>\n",
       "      <td>Asia</td>\n",
       "    </tr>\n",
       "  </tbody>\n",
       "</table>\n",
       "</div>"
      ],
      "text/plain": [
       "        id  population  year  country_id                  country name  \\\n",
       "666    667         NaN  2006          62  Former Serbia and Montenegro   \n",
       "667    668         NaN  2007          62  Former Serbia and Montenegro   \n",
       "668    669         NaN  2008          62  Former Serbia and Montenegro   \n",
       "669    670         NaN  2009          62  Former Serbia and Montenegro   \n",
       "670    671         NaN  2010          62  Former Serbia and Montenegro   \n",
       "2288  2289         NaN  2000         210      Timor-Leste (East Timor)   \n",
       "2289  2290         NaN  2001         210      Timor-Leste (East Timor)   \n",
       "2290  2291         NaN  2002         210      Timor-Leste (East Timor)   \n",
       "\n",
       "     continent  \n",
       "666     Europe  \n",
       "667     Europe  \n",
       "668     Europe  \n",
       "669     Europe  \n",
       "670     Europe  \n",
       "2288      Asia  \n",
       "2289      Asia  \n",
       "2290      Asia  "
      ]
     },
     "execution_count": 201,
     "metadata": {},
     "output_type": "execute_result"
    }
   ],
   "source": [
    "# The population columns with the missing values \n",
    "population_data[population_data.population.isnull()]"
   ]
  },
  {
   "cell_type": "code",
   "execution_count": 202,
   "id": "dde5b96c-ff0b-4ee0-adae-c19940a7e818",
   "metadata": {},
   "outputs": [],
   "source": [
    "# How many countries had no population data (0) for 2000?\n",
    "countries_with_no_population_data = population_data[(population_data['population'] != 0.0) & (population_data['year'] == 2000)]"
   ]
  },
  {
   "cell_type": "code",
   "execution_count": 203,
   "id": "adb2028e-90a1-4355-9b6a-3419c694bbd8",
   "metadata": {},
   "outputs": [
    {
     "data": {
      "text/html": [
       "<div>\n",
       "<style scoped>\n",
       "    .dataframe tbody tr th:only-of-type {\n",
       "        vertical-align: middle;\n",
       "    }\n",
       "\n",
       "    .dataframe tbody tr th {\n",
       "        vertical-align: top;\n",
       "    }\n",
       "\n",
       "    .dataframe thead th {\n",
       "        text-align: right;\n",
       "    }\n",
       "</style>\n",
       "<table border=\"1\" class=\"dataframe\">\n",
       "  <thead>\n",
       "    <tr style=\"text-align: right;\">\n",
       "      <th></th>\n",
       "      <th>id</th>\n",
       "      <th>population</th>\n",
       "      <th>year</th>\n",
       "      <th>country_id</th>\n",
       "      <th>country name</th>\n",
       "      <th>continent</th>\n",
       "    </tr>\n",
       "  </thead>\n",
       "  <tbody>\n",
       "    <tr>\n",
       "      <th>11</th>\n",
       "      <td>12</td>\n",
       "      <td>31.0</td>\n",
       "      <td>2000</td>\n",
       "      <td>2</td>\n",
       "      <td>Canada</td>\n",
       "      <td>North America</td>\n",
       "    </tr>\n",
       "    <tr>\n",
       "      <th>33</th>\n",
       "      <td>34</td>\n",
       "      <td>99.0</td>\n",
       "      <td>2000</td>\n",
       "      <td>4</td>\n",
       "      <td>Mexico</td>\n",
       "      <td>North America</td>\n",
       "    </tr>\n",
       "    <tr>\n",
       "      <th>55</th>\n",
       "      <td>56</td>\n",
       "      <td>282.0</td>\n",
       "      <td>2000</td>\n",
       "      <td>6</td>\n",
       "      <td>United States</td>\n",
       "      <td>North America</td>\n",
       "    </tr>\n",
       "    <tr>\n",
       "      <th>77</th>\n",
       "      <td>78</td>\n",
       "      <td>37.0</td>\n",
       "      <td>2000</td>\n",
       "      <td>8</td>\n",
       "      <td>Argentina</td>\n",
       "      <td>South America</td>\n",
       "    </tr>\n",
       "    <tr>\n",
       "      <th>132</th>\n",
       "      <td>133</td>\n",
       "      <td>8.0</td>\n",
       "      <td>2000</td>\n",
       "      <td>13</td>\n",
       "      <td>Bolivia</td>\n",
       "      <td>South America</td>\n",
       "    </tr>\n",
       "    <tr>\n",
       "      <th>...</th>\n",
       "      <td>...</td>\n",
       "      <td>...</td>\n",
       "      <td>...</td>\n",
       "      <td>...</td>\n",
       "      <td>...</td>\n",
       "      <td>...</td>\n",
       "    </tr>\n",
       "    <tr>\n",
       "      <th>2255</th>\n",
       "      <td>2256</td>\n",
       "      <td>19.0</td>\n",
       "      <td>2000</td>\n",
       "      <td>207</td>\n",
       "      <td>Sri Lanka</td>\n",
       "      <td>Asia</td>\n",
       "    </tr>\n",
       "    <tr>\n",
       "      <th>2266</th>\n",
       "      <td>2267</td>\n",
       "      <td>22.0</td>\n",
       "      <td>2000</td>\n",
       "      <td>208</td>\n",
       "      <td>Taiwan</td>\n",
       "      <td>Asia</td>\n",
       "    </tr>\n",
       "    <tr>\n",
       "      <th>2277</th>\n",
       "      <td>2278</td>\n",
       "      <td>62.0</td>\n",
       "      <td>2000</td>\n",
       "      <td>209</td>\n",
       "      <td>Thailand</td>\n",
       "      <td>Asia</td>\n",
       "    </tr>\n",
       "    <tr>\n",
       "      <th>2288</th>\n",
       "      <td>2289</td>\n",
       "      <td>NaN</td>\n",
       "      <td>2000</td>\n",
       "      <td>210</td>\n",
       "      <td>Timor-Leste (East Timor)</td>\n",
       "      <td>Asia</td>\n",
       "    </tr>\n",
       "    <tr>\n",
       "      <th>2332</th>\n",
       "      <td>2333</td>\n",
       "      <td>79.0</td>\n",
       "      <td>2000</td>\n",
       "      <td>214</td>\n",
       "      <td>Vietnam</td>\n",
       "      <td>Asia</td>\n",
       "    </tr>\n",
       "  </tbody>\n",
       "</table>\n",
       "<p>154 rows × 6 columns</p>\n",
       "</div>"
      ],
      "text/plain": [
       "        id  population  year  country_id              country name  \\\n",
       "11      12        31.0  2000           2                    Canada   \n",
       "33      34        99.0  2000           4                    Mexico   \n",
       "55      56       282.0  2000           6             United States   \n",
       "77      78        37.0  2000           8                 Argentina   \n",
       "132    133         8.0  2000          13                   Bolivia   \n",
       "...    ...         ...   ...         ...                       ...   \n",
       "2255  2256        19.0  2000         207                 Sri Lanka   \n",
       "2266  2267        22.0  2000         208                    Taiwan   \n",
       "2277  2278        62.0  2000         209                  Thailand   \n",
       "2288  2289         NaN  2000         210  Timor-Leste (East Timor)   \n",
       "2332  2333        79.0  2000         214                   Vietnam   \n",
       "\n",
       "          continent  \n",
       "11    North America  \n",
       "33    North America  \n",
       "55    North America  \n",
       "77    South America  \n",
       "132   South America  \n",
       "...             ...  \n",
       "2255           Asia  \n",
       "2266           Asia  \n",
       "2277           Asia  \n",
       "2288           Asia  \n",
       "2332           Asia  \n",
       "\n",
       "[154 rows x 6 columns]"
      ]
     },
     "execution_count": 203,
     "metadata": {},
     "output_type": "execute_result"
    }
   ],
   "source": [
    "# 154 countries had no poulation data(0) for 2000\n",
    "countries_with_no_population_data"
   ]
  },
  {
   "cell_type": "code",
   "execution_count": 204,
   "id": "28e7b9cf-dc6b-4555-b512-fc03e913afbc",
   "metadata": {},
   "outputs": [
    {
     "data": {
      "text/plain": [
       "array(['North America', 'South America', 'Europe', 'Asia', 'Africa',\n",
       "       'Oceania'], dtype=object)"
      ]
     },
     "execution_count": 204,
     "metadata": {},
     "output_type": "execute_result"
    }
   ],
   "source": [
    "# Check the number of continent in population data\n",
    "# There are 6 continents in population data\n",
    "population_data['continent'].unique()"
   ]
  },
  {
   "cell_type": "code",
   "execution_count": 205,
   "id": "2dd2293f-f8ef-4979-94bf-813da5a25927",
   "metadata": {},
   "outputs": [
    {
     "data": {
      "text/plain": [
       "country name\n",
       "Bermuda          11\n",
       "Ghana            11\n",
       "Guinea-Bissau    11\n",
       "Kenya            11\n",
       "Lesotho          11\n",
       "                 ..\n",
       "Poland           11\n",
       "Portugal         11\n",
       "Romania          11\n",
       "Slovakia         11\n",
       "Vietnam          11\n",
       "Name: count, Length: 213, dtype: int64"
      ]
     },
     "execution_count": 205,
     "metadata": {},
     "output_type": "execute_result"
    }
   ],
   "source": [
    "# Check the number of countries in population data\n",
    "# There are 213 countries in population data\n",
    "# Use value_counts to get the frequency of the unique countries \n",
    "population_data['country name'].value_counts()"
   ]
  },
  {
   "cell_type": "code",
   "execution_count": 206,
   "id": "dfe8fc9c-1628-460f-a134-b8bd3ccc901c",
   "metadata": {},
   "outputs": [],
   "source": [
    "# What was the total population of Africa in 2010? \n",
    "total_population_africa = population_data[(population_data[\"continent\"]  == \"Africa\" ) & (population_data[\"year\"] == 2010)].count()"
   ]
  },
  {
   "cell_type": "code",
   "execution_count": 207,
   "id": "ca2fc88f-fb91-47f6-b1b4-d0cc61ce3739",
   "metadata": {},
   "outputs": [
    {
     "data": {
      "text/plain": [
       "id              56\n",
       "population      56\n",
       "year            56\n",
       "country_id      56\n",
       "country name    56\n",
       "continent       56\n",
       "dtype: int64"
      ]
     },
     "execution_count": 207,
     "metadata": {},
     "output_type": "execute_result"
    }
   ],
   "source": [
    "# The total population of Africa in 2010 is 56\n",
    "total_population_africa"
   ]
  },
  {
   "cell_type": "code",
   "execution_count": 208,
   "id": "17f55f07-47bf-40b1-b5f8-9f433cbb04ab",
   "metadata": {},
   "outputs": [],
   "source": [
    "# What is the average population of countries in South America in 2000?\n",
    "avg_population_south_america = population_data[(population_data[\"continent\"]  == \"South America\" ) & (population_data[\"year\"] == 2000)]['population'].mean()"
   ]
  },
  {
   "cell_type": "code",
   "execution_count": 209,
   "id": "b2d65493-cec5-4e94-96c3-ecda8d4c9ec1",
   "metadata": {},
   "outputs": [
    {
     "data": {
      "text/plain": [
       "24.5"
      ]
     },
     "execution_count": 209,
     "metadata": {},
     "output_type": "execute_result"
    }
   ],
   "source": [
    "avg_population_south_america"
   ]
  },
  {
   "cell_type": "code",
   "execution_count": 210,
   "id": "ff58015f-da29-4942-aa7c-333402ef3867",
   "metadata": {},
   "outputs": [],
   "source": [
    "# In 2007, which countries had a population greater than 1000?\n",
    "population_greater_onek = population_data[(population_data[\"population\"] > 1000 ) & (population_data[\"year\"] == 2007)]"
   ]
  },
  {
   "cell_type": "code",
   "execution_count": 211,
   "id": "5db8947d-64ee-45f7-aac6-9ff32a94c220",
   "metadata": {},
   "outputs": [
    {
     "data": {
      "text/html": [
       "<div>\n",
       "<style scoped>\n",
       "    .dataframe tbody tr th:only-of-type {\n",
       "        vertical-align: middle;\n",
       "    }\n",
       "\n",
       "    .dataframe tbody tr th {\n",
       "        vertical-align: top;\n",
       "    }\n",
       "\n",
       "    .dataframe thead th {\n",
       "        text-align: right;\n",
       "    }\n",
       "</style>\n",
       "<table border=\"1\" class=\"dataframe\">\n",
       "  <thead>\n",
       "    <tr style=\"text-align: right;\">\n",
       "      <th></th>\n",
       "      <th>id</th>\n",
       "      <th>population</th>\n",
       "      <th>year</th>\n",
       "      <th>country_id</th>\n",
       "      <th>country name</th>\n",
       "      <th>continent</th>\n",
       "    </tr>\n",
       "  </thead>\n",
       "  <tbody>\n",
       "    <tr>\n",
       "      <th>1954</th>\n",
       "      <td>1955</td>\n",
       "      <td>1310.0</td>\n",
       "      <td>2007</td>\n",
       "      <td>179</td>\n",
       "      <td>China</td>\n",
       "      <td>Asia</td>\n",
       "    </tr>\n",
       "    <tr>\n",
       "      <th>2020</th>\n",
       "      <td>2021</td>\n",
       "      <td>1124.0</td>\n",
       "      <td>2007</td>\n",
       "      <td>185</td>\n",
       "      <td>India</td>\n",
       "      <td>Asia</td>\n",
       "    </tr>\n",
       "  </tbody>\n",
       "</table>\n",
       "</div>"
      ],
      "text/plain": [
       "        id  population  year  country_id country name continent\n",
       "1954  1955      1310.0  2007         179        China      Asia\n",
       "2020  2021      1124.0  2007         185        India      Asia"
      ]
     },
     "execution_count": 211,
     "metadata": {},
     "output_type": "execute_result"
    }
   ],
   "source": [
    "# In 2007, China and India had population greater than 1000\n",
    "population_greater_onek "
   ]
  },
  {
   "cell_type": "code",
   "execution_count": 212,
   "id": "9040eaad-d2a2-4078-8acf-8a40a8dfe12d",
   "metadata": {},
   "outputs": [],
   "source": [
    "# How much has the population of Europe grown from 2000 to 2010?\n",
    "population_2000 = population_data[(population_data[\"continent\"] == \"Europe\" ) & (population_data[\"year\"] == 2000)]['population'].sum()"
   ]
  },
  {
   "cell_type": "code",
   "execution_count": 213,
   "id": "7cd2e01b-9235-44f7-a169-a503277f24fa",
   "metadata": {},
   "outputs": [
    {
     "data": {
      "text/plain": [
       "714.0"
      ]
     },
     "execution_count": 213,
     "metadata": {},
     "output_type": "execute_result"
    }
   ],
   "source": [
    "population_2000"
   ]
  },
  {
   "cell_type": "code",
   "execution_count": 214,
   "id": "e9c11fd2-19f3-4164-b991-f769c9333d8b",
   "metadata": {},
   "outputs": [],
   "source": [
    "population_2010 = population_data[(population_data[\"continent\"] == \"Europe\" ) & (population_data[\"year\"] == 2010)]['population'].sum()"
   ]
  },
  {
   "cell_type": "code",
   "execution_count": 215,
   "id": "fc68d142-517e-4ab0-95ea-ce20267bbb60",
   "metadata": {},
   "outputs": [
    {
     "data": {
      "text/plain": [
       "706.0"
      ]
     },
     "execution_count": 215,
     "metadata": {},
     "output_type": "execute_result"
    }
   ],
   "source": [
    "population_2010"
   ]
  },
  {
   "cell_type": "code",
   "execution_count": 249,
   "id": "1613a51f-1bdf-4592-8116-216d48ef9d68",
   "metadata": {},
   "outputs": [
    {
     "name": "stdout",
     "output_type": "stream",
     "text": [
      "The population growth in Europe from 2000 to 2010 is: -8.0\n"
     ]
    }
   ],
   "source": [
    "Europe_growth = population_2010 - population_2000 \n",
    "Europe_growth\n",
    "print (f\"The population growth in Europe from 2000 to 2010 is: {Europe_growth}\")"
   ]
  },
  {
   "cell_type": "code",
   "execution_count": 277,
   "id": "ec244641-94e1-4d2e-a578-490bc77fd2dd",
   "metadata": {},
   "outputs": [
    {
     "data": {
      "text/plain": [
       "708.0"
      ]
     },
     "execution_count": 277,
     "metadata": {},
     "output_type": "execute_result"
    }
   ],
   "source": [
    "population_2009 = population_data[(population_data[\"continent\"] == \"Europe\" ) & (population_data[\"year\"] == 2009)]['population'].sum()\n",
    "population_2009"
   ]
  },
  {
   "cell_type": "code",
   "execution_count": 283,
   "id": "e2d00bc2-63d0-48aa-b263-af9394bac9cd",
   "metadata": {},
   "outputs": [
    {
     "data": {
      "text/plain": [
       "2000"
      ]
     },
     "execution_count": 283,
     "metadata": {},
     "output_type": "execute_result"
    }
   ],
   "source": [
    "# The minimum and maximum year in our dataset\n",
    "min_year = population_data['year'].min()\n",
    "min_year"
   ]
  },
  {
   "cell_type": "code",
   "execution_count": 285,
   "id": "10aa02f0-cbd9-4012-ad65-881706c9d7a8",
   "metadata": {},
   "outputs": [
    {
     "data": {
      "text/plain": [
       "2010"
      ]
     },
     "execution_count": 285,
     "metadata": {},
     "output_type": "execute_result"
    }
   ],
   "source": [
    "max_year = population_data['year'].max()\n",
    "max_year"
   ]
  },
  {
   "cell_type": "code",
   "execution_count": 287,
   "id": "68e4501c-9cdd-4268-92d4-62fac4d1d6ad",
   "metadata": {},
   "outputs": [
    {
     "data": {
      "text/plain": [
       "array([  1,   2,   3,   4,   5,   6,   7,   8,   9,  10,  11,  12,  13,\n",
       "        14,  15,  16,  17,  18,  19,  20,  21,  22,  23,  24,  25,  26,\n",
       "        27,  28,  29,  30,  31,  32,  33,  34,  36,  37,  38,  39,  40,\n",
       "        41,  42,  43,  44,  45,  46,  47,  48,  49,  50,  51,  52,  53,\n",
       "        54,  55,  56,  57,  58,  59,  60,  61,  62,  63,  64,  65,  66,\n",
       "        67,  68,  69,  70,  71,  72,  73,  74,  75,  76,  77,  78,  79,\n",
       "        80,  81,  82,  83,  84,  85,  86,  87,  88,  89,  90,  91,  92,\n",
       "        93,  94,  95,  96,  97,  98,  99, 100, 101, 102, 103, 104, 105,\n",
       "       106, 107, 108, 109, 110, 111, 112, 113, 114, 115, 116, 117, 118,\n",
       "       119, 120, 121, 122, 123, 124, 125, 126, 127, 128, 129, 130, 131,\n",
       "       132, 133, 134, 135, 136, 137, 138, 139, 140, 141, 142, 143, 144,\n",
       "       145, 146, 147, 148, 149, 150, 151, 152, 153, 154, 155, 156, 157,\n",
       "       158, 159, 160, 161, 162, 163, 164, 165, 166, 167, 168, 169, 170,\n",
       "       171, 172, 173, 174, 175, 176, 177, 178, 179, 180, 181, 182, 183,\n",
       "       184, 185, 186, 187, 188, 189, 190, 191, 192, 193, 194, 195, 196,\n",
       "       197, 198, 199, 200, 201, 202, 203, 204, 205, 206, 207, 208, 209,\n",
       "       210, 211, 212, 213, 214], dtype=int64)"
      ]
     },
     "execution_count": 287,
     "metadata": {},
     "output_type": "execute_result"
    }
   ],
   "source": [
    "# There are 213 countrues in population data\n",
    "population_data['country_id'].unique()"
   ]
  },
  {
   "cell_type": "code",
   "execution_count": 303,
   "id": "7c423595-5b99-4a09-8baf-a92b54c7a4b2",
   "metadata": {},
   "outputs": [
    {
     "data": {
      "text/plain": [
       "70147.0"
      ]
     },
     "execution_count": 303,
     "metadata": {},
     "output_type": "execute_result"
    }
   ],
   "source": [
    "#  Sum of population for each year\n",
    "total_population = population_data['population'].sum()\n",
    "total_population"
   ]
  },
  {
   "cell_type": "code",
   "execution_count": 315,
   "id": "d4b247e3-6973-4056-95cc-5a2a3e16e23a",
   "metadata": {},
   "outputs": [
    {
     "data": {
      "text/html": [
       "<div>\n",
       "<style scoped>\n",
       "    .dataframe tbody tr th:only-of-type {\n",
       "        vertical-align: middle;\n",
       "    }\n",
       "\n",
       "    .dataframe tbody tr th {\n",
       "        vertical-align: top;\n",
       "    }\n",
       "\n",
       "    .dataframe thead th {\n",
       "        text-align: right;\n",
       "    }\n",
       "</style>\n",
       "<table border=\"1\" class=\"dataframe\">\n",
       "  <thead>\n",
       "    <tr style=\"text-align: right;\">\n",
       "      <th></th>\n",
       "      <th>id</th>\n",
       "      <th>population</th>\n",
       "      <th>country_id</th>\n",
       "    </tr>\n",
       "    <tr>\n",
       "      <th>year</th>\n",
       "      <th></th>\n",
       "      <th></th>\n",
       "      <th></th>\n",
       "    </tr>\n",
       "  </thead>\n",
       "  <tbody>\n",
       "    <tr>\n",
       "      <th>2000</th>\n",
       "      <td>248573</td>\n",
       "      <td>6004.0</td>\n",
       "      <td>22970</td>\n",
       "    </tr>\n",
       "    <tr>\n",
       "      <th>2001</th>\n",
       "      <td>248786</td>\n",
       "      <td>6078.0</td>\n",
       "      <td>22970</td>\n",
       "    </tr>\n",
       "    <tr>\n",
       "      <th>2002</th>\n",
       "      <td>248995</td>\n",
       "      <td>6150.0</td>\n",
       "      <td>22970</td>\n",
       "    </tr>\n",
       "    <tr>\n",
       "      <th>2003</th>\n",
       "      <td>249208</td>\n",
       "      <td>6228.0</td>\n",
       "      <td>22970</td>\n",
       "    </tr>\n",
       "    <tr>\n",
       "      <th>2004</th>\n",
       "      <td>249423</td>\n",
       "      <td>6303.0</td>\n",
       "      <td>22970</td>\n",
       "    </tr>\n",
       "    <tr>\n",
       "      <th>2005</th>\n",
       "      <td>249636</td>\n",
       "      <td>6380.0</td>\n",
       "      <td>22970</td>\n",
       "    </tr>\n",
       "    <tr>\n",
       "      <th>2006</th>\n",
       "      <td>249849</td>\n",
       "      <td>6448.0</td>\n",
       "      <td>22970</td>\n",
       "    </tr>\n",
       "    <tr>\n",
       "      <th>2007</th>\n",
       "      <td>250062</td>\n",
       "      <td>6521.0</td>\n",
       "      <td>22970</td>\n",
       "    </tr>\n",
       "    <tr>\n",
       "      <th>2008</th>\n",
       "      <td>250275</td>\n",
       "      <td>6606.0</td>\n",
       "      <td>22970</td>\n",
       "    </tr>\n",
       "    <tr>\n",
       "      <th>2009</th>\n",
       "      <td>250488</td>\n",
       "      <td>6676.0</td>\n",
       "      <td>22970</td>\n",
       "    </tr>\n",
       "    <tr>\n",
       "      <th>2010</th>\n",
       "      <td>250701</td>\n",
       "      <td>6753.0</td>\n",
       "      <td>22970</td>\n",
       "    </tr>\n",
       "  </tbody>\n",
       "</table>\n",
       "</div>"
      ],
      "text/plain": [
       "          id  population  country_id\n",
       "year                                \n",
       "2000  248573      6004.0       22970\n",
       "2001  248786      6078.0       22970\n",
       "2002  248995      6150.0       22970\n",
       "2003  249208      6228.0       22970\n",
       "2004  249423      6303.0       22970\n",
       "2005  249636      6380.0       22970\n",
       "2006  249849      6448.0       22970\n",
       "2007  250062      6521.0       22970\n",
       "2008  250275      6606.0       22970\n",
       "2009  250488      6676.0       22970\n",
       "2010  250701      6753.0       22970"
      ]
     },
     "execution_count": 315,
     "metadata": {},
     "output_type": "execute_result"
    }
   ],
   "source": [
    "# Total population by year\n",
    "# There was increase in  the overall population across the year\n",
    "population_year = population_data.groupby('year').sum('population')\n",
    "population_year"
   ]
  },
  {
   "cell_type": "code",
   "execution_count": 317,
   "id": "2fc6866a-0c2c-42ff-abc5-0c5e62656a21",
   "metadata": {},
   "outputs": [
    {
     "data": {
      "text/plain": [
       "<Axes: xlabel='year', ylabel='population'>"
      ]
     },
     "execution_count": 317,
     "metadata": {},
     "output_type": "execute_result"
    },
    {
     "data": {
      "image/png": "[encoded data removed]",
      "text/plain": [
       "<Figure size 640x480 with 1 Axes>"
      ]
     },
     "metadata": {},
     "output_type": "display_data"
    }
   ],
   "source": [
    "# The growth trend from 2000 to 2010\n",
    "sns.scatterplot(x = 'year', y = 'population', data = population_year)"
   ]
  },
  {
   "cell_type": "code",
   "execution_count": 323,
   "id": "691513ec-77f8-4921-a15d-15e1de2c338b",
   "metadata": {},
   "outputs": [
    {
     "data": {
      "text/plain": [
       "<Axes: xlabel='year', ylabel='population'>"
      ]
     },
     "execution_count": 323,
     "metadata": {},
     "output_type": "execute_result"
    },
    {
     "data": {
      "image/png": "[encoded data removed]",
      "text/plain": [
       "<Figure size 640x480 with 1 Axes>"
      ]
     },
     "metadata": {},
     "output_type": "display_data"
    }
   ],
   "source": [
    "sns.lineplot(x = 'year', y = 'population', data = population_year)"
   ]
  },
  {
   "cell_type": "code",
   "execution_count": 345,
   "id": "91d85548-af3e-46d6-888a-5eca33373f17",
   "metadata": {},
   "outputs": [
    {
     "name": "stderr",
     "output_type": "stream",
     "text": [
      "C:\\Users\\sekky\\AppData\\Local\\Temp\\ipykernel_13348\\3006561307.py:2: FutureWarning: \n",
      "\n",
      "Passing `palette` without assigning `hue` is deprecated and will be removed in v0.14.0. Assign the `x` variable to `hue` and set `legend=False` for the same effect.\n",
      "\n",
      "  sns.barplot(x = 'continent', y = 'population', data = population_data, palette = 'YlGnBu')\n"
     ]
    },
    {
     "data": {
      "text/plain": [
       "<Axes: xlabel='continent', ylabel='population'>"
      ]
     },
     "execution_count": 345,
     "metadata": {},
     "output_type": "execute_result"
    },
    {
     "data": {
      "image/png": "[encoded data removed]",
      "text/plain": [
       "<Figure size 800x1000 with 1 Axes>"
      ]
     },
     "metadata": {},
     "output_type": "display_data"
    }
   ],
   "source": [
    "plt.figure(figsize=(8, 10))\n",
    "sns.barplot(x = 'continent', y = 'population', data = population_data, palette = 'YlGnBu')"
   ]
  },
  {
   "cell_type": "code",
   "execution_count": 341,
   "id": "a3a33996-2790-4ecd-9ef2-4bfe010c3d97",
   "metadata": {},
   "outputs": [
    {
     "data": {
      "text/html": [
       "<div>\n",
       "<style scoped>\n",
       "    .dataframe tbody tr th:only-of-type {\n",
       "        vertical-align: middle;\n",
       "    }\n",
       "\n",
       "    .dataframe tbody tr th {\n",
       "        vertical-align: top;\n",
       "    }\n",
       "\n",
       "    .dataframe thead th {\n",
       "        text-align: right;\n",
       "    }\n",
       "</style>\n",
       "<table border=\"1\" class=\"dataframe\">\n",
       "  <thead>\n",
       "    <tr style=\"text-align: right;\">\n",
       "      <th></th>\n",
       "      <th>id</th>\n",
       "      <th>population</th>\n",
       "      <th>year</th>\n",
       "      <th>country_id</th>\n",
       "    </tr>\n",
       "    <tr>\n",
       "      <th>continent</th>\n",
       "      <th></th>\n",
       "      <th></th>\n",
       "      <th></th>\n",
       "      <th></th>\n",
       "    </tr>\n",
       "  </thead>\n",
       "  <tbody>\n",
       "    <tr>\n",
       "      <th>Africa</th>\n",
       "      <td>1551.500000</td>\n",
       "      <td>15.711039</td>\n",
       "      <td>2005.0</td>\n",
       "      <td>142.500000</td>\n",
       "    </tr>\n",
       "    <tr>\n",
       "      <th>Asia</th>\n",
       "      <td>1613.941176</td>\n",
       "      <td>76.664875</td>\n",
       "      <td>2005.0</td>\n",
       "      <td>148.176471</td>\n",
       "    </tr>\n",
       "    <tr>\n",
       "      <th>Europe</th>\n",
       "      <td>779.575000</td>\n",
       "      <td>17.983908</td>\n",
       "      <td>2005.0</td>\n",
       "      <td>72.325000</td>\n",
       "    </tr>\n",
       "    <tr>\n",
       "      <th>North America</th>\n",
       "      <td>260.885714</td>\n",
       "      <td>14.363636</td>\n",
       "      <td>2005.0</td>\n",
       "      <td>24.457143</td>\n",
       "    </tr>\n",
       "    <tr>\n",
       "      <th>Oceania</th>\n",
       "      <td>2119.294118</td>\n",
       "      <td>1.668449</td>\n",
       "      <td>2005.0</td>\n",
       "      <td>194.117647</td>\n",
       "    </tr>\n",
       "    <tr>\n",
       "      <th>South America</th>\n",
       "      <td>292.785714</td>\n",
       "      <td>26.136364</td>\n",
       "      <td>2005.0</td>\n",
       "      <td>27.428571</td>\n",
       "    </tr>\n",
       "  </tbody>\n",
       "</table>\n",
       "</div>"
      ],
      "text/plain": [
       "                        id  population    year  country_id\n",
       "continent                                                 \n",
       "Africa         1551.500000   15.711039  2005.0  142.500000\n",
       "Asia           1613.941176   76.664875  2005.0  148.176471\n",
       "Europe          779.575000   17.983908  2005.0   72.325000\n",
       "North America   260.885714   14.363636  2005.0   24.457143\n",
       "Oceania        2119.294118    1.668449  2005.0  194.117647\n",
       "South America   292.785714   26.136364  2005.0   27.428571"
      ]
     },
     "execution_count": 341,
     "metadata": {},
     "output_type": "execute_result"
    }
   ],
   "source": [
    "population_data.groupby('continent').mean('population')"
   ]
  },
  {
   "cell_type": "code",
   "execution_count": 349,
   "id": "1b4066f8-7778-4333-a703-956fc79808ad",
   "metadata": {},
   "outputs": [
    {
     "name": "stderr",
     "output_type": "stream",
     "text": [
      "C:\\Users\\sekky\\AppData\\Local\\Temp\\ipykernel_13348\\3699044443.py:3: FutureWarning: \n",
      "\n",
      "Passing `palette` without assigning `hue` is deprecated and will be removed in v0.14.0. Assign the `x` variable to `hue` and set `legend=False` for the same effect.\n",
      "\n",
      "  sns.boxplot( x = 'continent', y = 'population', palette = 'YlGnBu', data = population_data)\n",
      "No artists with labels found to put in legend.  Note that artists whose label start with an underscore are ignored when legend() is called with no argument.\n"
     ]
    },
    {
     "data": {
      "text/plain": [
       "<matplotlib.legend.Legend at 0x289926fb4d0>"
      ]
     },
     "execution_count": 349,
     "metadata": {},
     "output_type": "execute_result"
    },
    {
     "data": {
      "image/png": "[encoded data removed]",
      "text/plain": [
       "<Figure size 800x1000 with 1 Axes>"
      ]
     },
     "metadata": {},
     "output_type": "display_data"
    }
   ],
   "source": [
    "# A boxplot helps us identify if there's an outlier in our dataset\n",
    "plt.figure(figsize=(8, 10))\n",
    "sns.boxplot( x = 'continent', y = 'population', palette = 'YlGnBu', data = population_data)\n",
    "plt.legend(loc = 1)"
   ]
  },
  {
   "cell_type": "code",
   "execution_count": 351,
   "id": "c3e2e6d9-fb16-439b-a199-25ab293184ed",
   "metadata": {},
   "outputs": [
    {
     "data": {
      "text/html": [
       "<div>\n",
       "<style scoped>\n",
       "    .dataframe tbody tr th:only-of-type {\n",
       "        vertical-align: middle;\n",
       "    }\n",
       "\n",
       "    .dataframe tbody tr th {\n",
       "        vertical-align: top;\n",
       "    }\n",
       "\n",
       "    .dataframe thead th {\n",
       "        text-align: right;\n",
       "    }\n",
       "</style>\n",
       "<table border=\"1\" class=\"dataframe\">\n",
       "  <thead>\n",
       "    <tr style=\"text-align: right;\">\n",
       "      <th></th>\n",
       "      <th>id</th>\n",
       "      <th>population</th>\n",
       "      <th>year</th>\n",
       "      <th>country_id</th>\n",
       "    </tr>\n",
       "    <tr>\n",
       "      <th>continent</th>\n",
       "      <th></th>\n",
       "      <th></th>\n",
       "      <th></th>\n",
       "      <th></th>\n",
       "    </tr>\n",
       "  </thead>\n",
       "  <tbody>\n",
       "    <tr>\n",
       "      <th>Africa</th>\n",
       "      <td>1551.5</td>\n",
       "      <td>8.0</td>\n",
       "      <td>2005.0</td>\n",
       "      <td>142.5</td>\n",
       "    </tr>\n",
       "    <tr>\n",
       "      <th>Asia</th>\n",
       "      <td>1898.0</td>\n",
       "      <td>13.0</td>\n",
       "      <td>2005.0</td>\n",
       "      <td>174.0</td>\n",
       "    </tr>\n",
       "    <tr>\n",
       "      <th>Europe</th>\n",
       "      <td>770.5</td>\n",
       "      <td>7.0</td>\n",
       "      <td>2005.0</td>\n",
       "      <td>71.5</td>\n",
       "    </tr>\n",
       "    <tr>\n",
       "      <th>North America</th>\n",
       "      <td>281.0</td>\n",
       "      <td>0.0</td>\n",
       "      <td>2005.0</td>\n",
       "      <td>26.0</td>\n",
       "    </tr>\n",
       "    <tr>\n",
       "      <th>Oceania</th>\n",
       "      <td>2162.0</td>\n",
       "      <td>0.0</td>\n",
       "      <td>2005.0</td>\n",
       "      <td>198.0</td>\n",
       "    </tr>\n",
       "    <tr>\n",
       "      <th>South America</th>\n",
       "      <td>264.5</td>\n",
       "      <td>10.5</td>\n",
       "      <td>2005.0</td>\n",
       "      <td>24.5</td>\n",
       "    </tr>\n",
       "  </tbody>\n",
       "</table>\n",
       "</div>"
      ],
      "text/plain": [
       "                   id  population    year  country_id\n",
       "continent                                            \n",
       "Africa         1551.5         8.0  2005.0       142.5\n",
       "Asia           1898.0        13.0  2005.0       174.0\n",
       "Europe          770.5         7.0  2005.0        71.5\n",
       "North America   281.0         0.0  2005.0        26.0\n",
       "Oceania        2162.0         0.0  2005.0       198.0\n",
       "South America   264.5        10.5  2005.0        24.5"
      ]
     },
     "execution_count": 351,
     "metadata": {},
     "output_type": "execute_result"
    }
   ],
   "source": [
    "# There ara outliers in population data,  Asia had the highest median indicating an outlier\n",
    "population_data.groupby('continent').median('population')"
   ]
  },
  {
   "cell_type": "code",
   "execution_count": 357,
   "id": "10e3aca7-ef9f-4c07-96bd-19f4cca4f420",
   "metadata": {},
   "outputs": [],
   "source": [
    "population_data.drop(['country name', 'continent'], inplace = True, axis = 1)"
   ]
  },
  {
   "cell_type": "code",
   "execution_count": 359,
   "id": "0dd32f79-afaa-4423-a0a2-07cae475ee8d",
   "metadata": {},
   "outputs": [
    {
     "data": {
      "text/html": [
       "<div>\n",
       "<style scoped>\n",
       "    .dataframe tbody tr th:only-of-type {\n",
       "        vertical-align: middle;\n",
       "    }\n",
       "\n",
       "    .dataframe tbody tr th {\n",
       "        vertical-align: top;\n",
       "    }\n",
       "\n",
       "    .dataframe thead th {\n",
       "        text-align: right;\n",
       "    }\n",
       "</style>\n",
       "<table border=\"1\" class=\"dataframe\">\n",
       "  <thead>\n",
       "    <tr style=\"text-align: right;\">\n",
       "      <th></th>\n",
       "      <th>id</th>\n",
       "      <th>population</th>\n",
       "      <th>year</th>\n",
       "      <th>country_id</th>\n",
       "    </tr>\n",
       "  </thead>\n",
       "  <tbody>\n",
       "    <tr>\n",
       "      <th>0</th>\n",
       "      <td>1</td>\n",
       "      <td>0.0</td>\n",
       "      <td>2000</td>\n",
       "      <td>1</td>\n",
       "    </tr>\n",
       "    <tr>\n",
       "      <th>1</th>\n",
       "      <td>2</td>\n",
       "      <td>0.0</td>\n",
       "      <td>2001</td>\n",
       "      <td>1</td>\n",
       "    </tr>\n",
       "    <tr>\n",
       "      <th>2</th>\n",
       "      <td>3</td>\n",
       "      <td>0.0</td>\n",
       "      <td>2002</td>\n",
       "      <td>1</td>\n",
       "    </tr>\n",
       "    <tr>\n",
       "      <th>3</th>\n",
       "      <td>4</td>\n",
       "      <td>0.0</td>\n",
       "      <td>2003</td>\n",
       "      <td>1</td>\n",
       "    </tr>\n",
       "    <tr>\n",
       "      <th>4</th>\n",
       "      <td>5</td>\n",
       "      <td>0.0</td>\n",
       "      <td>2004</td>\n",
       "      <td>1</td>\n",
       "    </tr>\n",
       "    <tr>\n",
       "      <th>...</th>\n",
       "      <td>...</td>\n",
       "      <td>...</td>\n",
       "      <td>...</td>\n",
       "      <td>...</td>\n",
       "    </tr>\n",
       "    <tr>\n",
       "      <th>2338</th>\n",
       "      <td>2339</td>\n",
       "      <td>85.0</td>\n",
       "      <td>2006</td>\n",
       "      <td>214</td>\n",
       "    </tr>\n",
       "    <tr>\n",
       "      <th>2339</th>\n",
       "      <td>2340</td>\n",
       "      <td>86.0</td>\n",
       "      <td>2007</td>\n",
       "      <td>214</td>\n",
       "    </tr>\n",
       "    <tr>\n",
       "      <th>2340</th>\n",
       "      <td>2341</td>\n",
       "      <td>87.0</td>\n",
       "      <td>2008</td>\n",
       "      <td>214</td>\n",
       "    </tr>\n",
       "    <tr>\n",
       "      <th>2341</th>\n",
       "      <td>2342</td>\n",
       "      <td>88.0</td>\n",
       "      <td>2009</td>\n",
       "      <td>214</td>\n",
       "    </tr>\n",
       "    <tr>\n",
       "      <th>2342</th>\n",
       "      <td>2343</td>\n",
       "      <td>89.0</td>\n",
       "      <td>2010</td>\n",
       "      <td>214</td>\n",
       "    </tr>\n",
       "  </tbody>\n",
       "</table>\n",
       "<p>2343 rows × 4 columns</p>\n",
       "</div>"
      ],
      "text/plain": [
       "        id  population  year  country_id\n",
       "0        1         0.0  2000           1\n",
       "1        2         0.0  2001           1\n",
       "2        3         0.0  2002           1\n",
       "3        4         0.0  2003           1\n",
       "4        5         0.0  2004           1\n",
       "...    ...         ...   ...         ...\n",
       "2338  2339        85.0  2006         214\n",
       "2339  2340        86.0  2007         214\n",
       "2340  2341        87.0  2008         214\n",
       "2341  2342        88.0  2009         214\n",
       "2342  2343        89.0  2010         214\n",
       "\n",
       "[2343 rows x 4 columns]"
      ]
     },
     "execution_count": 359,
     "metadata": {},
     "output_type": "execute_result"
    }
   ],
   "source": [
    "population_data"
   ]
  },
  {
   "cell_type": "code",
   "execution_count": 361,
   "id": "cb13d978-4dff-43bf-afb0-af09fc1f961f",
   "metadata": {},
   "outputs": [
    {
     "data": {
      "text/plain": [
       "<Axes: >"
      ]
     },
     "execution_count": 361,
     "metadata": {},
     "output_type": "execute_result"
    },
    {
     "data": {
      "image/png": "[encoded data removed]",
      "text/plain": [
       "<Figure size 640x480 with 2 Axes>"
      ]
     },
     "metadata": {},
     "output_type": "display_data"
    }
   ],
   "source": [
    "sns.heatmap(population_data.corr(), annot = True)"
   ]
  },
  {
   "cell_type": "code",
   "execution_count": null,
   "id": "1b1aef75-53e0-4f01-b9d9-7f3cb988080a",
   "metadata": {},
   "outputs": [],
   "source": []
  }
 ],
 "metadata": {
  "kernelspec": {
   "display_name": "Python 3 (ipykernel)",
   "language": "python",
   "name": "python3"
  },
  "language_info": {
   "codemirror_mode": {
    "name": "ipython",
    "version": 3
   },
   "file_extension": ".py",
   "mimetype": "text/x-python",
   "name": "python",
   "nbconvert_exporter": "python",
   "pygments_lexer": "ipython3",
   "version": "3.12.4"
  }
 },
 "nbformat": 4,
 "nbformat_minor": 5
}
